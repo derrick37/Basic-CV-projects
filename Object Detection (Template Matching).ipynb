{
 "cells": [
  {
   "cell_type": "code",
   "execution_count": null,
   "metadata": {},
   "outputs": [],
   "source": [
    "import cv2\n",
    "import numpy as np\n",
    "\n",
    "# Read image\n",
    "image = cv2.imread('./images/WaldoBeach.jpg')\n",
    "cv2.imshow('Where is Waldo?', image)\n",
    "cv2.waitKey(0)\n",
    "\n",
    "# Grayscale the image\n",
    "gray = cv2.cvtColor(image, cv2.COLOR_BGR2GRAY)\n",
    "\n",
    "# Reading the Template image in grayscale directly\n",
    "template = cv2.imread('./images/waldo.jpg',0)\n",
    "\n",
    "# Calculating template match to the image\n",
    "match_results = cv2.matchTemplate(gray, template, cv2.TM_SQDIFF)\n",
    "\n",
    "# Finding location of the maximum value (in case method used is a difference this is the min value)\n",
    "min_val, max_val, min_loc, max_loc = cv2.minMaxLoc(match_results)\n",
    "\n",
    "#Drawing the rectangle to represent the identified object\n",
    "top_left = min_loc \n",
    "bottom_right = (top_left[0] + template.shape[0], top_left[1] + template.shape[1])\n",
    "cv2.rectangle(image, top_left, bottom_right, (0,0,255), 2)\n",
    "                \n",
    "cv2.imshow('Where is Waldo?', image)\n",
    "cv2.waitKey(0)\n",
    "cv2.destroyAllWindows()"
   ]
  }
 ],
 "metadata": {
  "kernelspec": {
   "display_name": "Python 3",
   "language": "python",
   "name": "python3"
  },
  "language_info": {
   "codemirror_mode": {
    "name": "ipython",
    "version": 3
   },
   "file_extension": ".py",
   "mimetype": "text/x-python",
   "name": "python",
   "nbconvert_exporter": "python",
   "pygments_lexer": "ipython3",
   "version": "3.7.3"
  }
 },
 "nbformat": 4,
 "nbformat_minor": 2
}
