{
 "cells": [
  {
   "cell_type": "code",
   "execution_count": null,
   "metadata": {},
   "outputs": [],
   "source": [
    "import numpy as np\n",
    "import cv2\n",
    "\n",
    "# Load images\n",
    "image = cv2.imread('images/someshapes.jpg')\n",
    "cv2.imshow('Identifying Shapes',image)\n",
    "cv2.waitKey()\n",
    "\n",
    "# Gray scale, threshold and getting contours\n",
    "gray = cv2.cvtColor(image, cv2.COLOR_BGR2GRAY)\n",
    "ret, thresh = cv2.threshold(gray, 127, 255, 1)\n",
    "contours, hierarchy = cv2.findContours(thresh.copy(), cv2.RETR_LIST, cv2.CHAIN_APPROX_NONE)\n",
    "\n",
    "for c in contours:\n",
    "    \n",
    "    #Approximation incase some contours aren't upto speed\n",
    "    approx = cv2.approxPolyDP(c, 0.01*cv2.arcLength(c,True), True)\n",
    "    print(len(approx))\n",
    "    \n",
    "    #Calculating centre of each contour\n",
    "    M = cv2.moments(approx, 0)\n",
    "    cx = int(M['m10'] / M['m00'])\n",
    "    cy = int(M['m01'] / M['m00'])\n",
    "    \n",
    "    #Check contours to determine shape then add the name\n",
    "    if len(approx) == 3:\n",
    "        name = 'Triangle'\n",
    "        cv2.drawContours(image,[c],0,(0,255,0),-1)\n",
    "        cv2.putText(image, name, (cx-50, cy), cv2.FONT_HERSHEY_SIMPLEX, 1, (255, 255, 255), 2)\n",
    "        \n",
    "        \n",
    "    elif len(approx) == 4:\n",
    "        x,y,w,h = cv2.boundingRect(approx)\n",
    "        if abs(w-h) <= 1: #absolute to cater for negative values\n",
    "            name = 'Square'\n",
    "            cv2.drawContours(image,[c],0,(255,0,0),-1)\n",
    "            cv2.putText(image, name, (cx-50, cy), cv2.FONT_HERSHEY_SIMPLEX, 1, (255, 255, 255), 2)\n",
    "        else:\n",
    "            name = 'Rectangle'\n",
    "            cv2.drawContours(image,[c],0,(0,0,255),-1)\n",
    "            cv2.putText(image, name, (cx-50, cy), cv2.FONT_HERSHEY_SIMPLEX, 1, (255, 255, 255), 2)\n",
    "            \n",
    "    elif len(approx) <= 11:\n",
    "        name = 'Star'\n",
    "        cv2.drawContours(image,[c],0,(255,255,0),-1)\n",
    "        cv2.putText(image, name, (cx-50, cy), cv2.FONT_HERSHEY_SIMPLEX, 1, (255, 255, 255), 2)\n",
    "        \n",
    "    else:\n",
    "        name = 'Circle'\n",
    "        cv2.drawContours(image,[c],0,(0,255,255),-1)\n",
    "        cv2.putText(image, name, (cx-50, cy), cv2.FONT_HERSHEY_SIMPLEX, 1, (255, 255, 255), 2)\n",
    "        \n",
    "    cv2.imshow('Identified shapes',image)\n",
    "    cv2.waitKey()\n",
    "cv2.destroyAllWindows()\n",
    "        "
   ]
  }
 ],
 "metadata": {
  "kernelspec": {
   "display_name": "Python 3",
   "language": "python",
   "name": "python3"
  },
  "language_info": {
   "codemirror_mode": {
    "name": "ipython",
    "version": 3
   },
   "file_extension": ".py",
   "mimetype": "text/x-python",
   "name": "python",
   "nbconvert_exporter": "python",
   "pygments_lexer": "ipython3",
   "version": "3.7.3"
  }
 },
 "nbformat": 4,
 "nbformat_minor": 2
}
